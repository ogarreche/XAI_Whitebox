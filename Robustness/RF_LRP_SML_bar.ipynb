{
 "cells": [
  {
   "cell_type": "code",
   "execution_count": 1,
   "metadata": {},
   "outputs": [
    {
     "name": "stderr",
     "output_type": "stream",
     "text": [
      "2024-06-04 22:14:52.300124: I tensorflow/stream_executor/platform/default/dso_loader.cc:53] Successfully opened dynamic library libcudart.so.11.0\n"
     ]
    }
   ],
   "source": [
    "import warnings\n",
    "warnings.filterwarnings('ignore') \n",
    "\n",
    "from adversarial_models import * \n",
    "from utils import *\n",
    "from get_data import *\n",
    "\n",
    "from sklearn.model_selection import train_test_split\n",
    "from sklearn.preprocessing import StandardScaler\n",
    "\n",
    "import numpy as np\n",
    "import pandas as pd\n",
    "\n",
    "import lime\n",
    "import lime.lime_tabular\n",
    "import shap\n",
    "from copy import deepcopy"
   ]
  },
  {
   "cell_type": "code",
   "execution_count": 2,
   "metadata": {},
   "outputs": [
    {
     "name": "stdout",
     "output_type": "stream",
     "text": [
      "--------------------------------------------------\n",
      "Loading Database\n",
      "--------------------------------------------------\n",
      "['None', 'Attack']\n",
      "0\n"
     ]
    }
   ],
   "source": [
    "# Get the data set and do some preprocessing\n",
    "# cols = [' Init_Win_bytes_backward',\n",
    "#         ' Destination Port',' Fwd Packet Length Std',\n",
    "#         ' Flow IAT Max','Total Length of Fwd Packets']\n",
    "\n",
    "# X = df[cols]  # Select the features from df\n",
    "# y = df[' Label']  # Replace 'target_column' with the actual name of your target column\n",
    "\n",
    "params = Params(\"model_configurations/experiment_params.json\")\n",
    "np.random.seed(params.seed)\n",
    "X, y, cols = get_and_preprocess_simargl(params)"
   ]
  },
  {
   "cell_type": "code",
   "execution_count": 3,
   "metadata": {},
   "outputs": [
    {
     "name": "stdout",
     "output_type": "stream",
     "text": [
      "Counter({0: 432747, 1: 64252})\n"
     ]
    }
   ],
   "source": [
    "from collections import Counter\n",
    "print(Counter(y))"
   ]
  },
  {
   "cell_type": "code",
   "execution_count": 4,
   "metadata": {},
   "outputs": [],
   "source": [
    "\n",
    "\n",
    "# Add a random column -- this is what we'll have LIME/SHAP explain.\n",
    "X['unrelated_column'] = np.random.choice([0,1],size=X.shape[0])\n",
    "features = [c for c in X]\n",
    "\n",
    "categorical_feature_name = ['L4_DST_PORT','TCP_WIN_MSS_IN',\n",
    "                            'OUT_PKTS','IN_PKTS', \n",
    "                            'unrelated_column']\n",
    "\n",
    "# categorical_feature_name = [' Init_Win_bytes_backward',\n",
    "#                             ' Destination Port',' Fwd Packet Length Std',\n",
    "#                             ' Flow IAT Max','Total Length of Fwd Packets', \n",
    "#                             'unrelated_column']\n",
    "\n",
    "categorical_feature_indcs = [features.index(c) for c in categorical_feature_name]\n",
    "\n",
    "race_indc = features.index('FLOW_DURATION_MILLISECONDS')\n",
    "unrelated_indcs = features.index('unrelated_column')\n",
    "X = X.values"
   ]
  },
  {
   "cell_type": "code",
   "execution_count": 5,
   "metadata": {},
   "outputs": [],
   "source": [
    "class racist_model_f:\n",
    "    # Decision rule: classify negatively if race is black\n",
    "    def predict(self,X):\n",
    "        return np.array([params.negative_outcome if x[race_indc] > 0 else params.positive_outcome for x in X])\n",
    "\n",
    "    def predict_proba(self, X): \n",
    "        return one_hot_encode(self.predict(X))\n",
    "\n",
    "    def score(self, X,y):\n",
    "        return np.sum(self.predict(X)==y) / len(X)\n",
    "    \n",
    "class innocuous_model_psi:\n",
    "    # Decision rule: classify according to randomly drawn column 'unrelated column'\n",
    "    def predict(self,X):\n",
    "        return np.array([params.negative_outcome if x[unrelated_indcs] > 0 else params.positive_outcome for x in X])\n",
    "\n",
    "    def predict_proba(self, X): \n",
    "        return one_hot_encode(self.predict(X))\n",
    "\n",
    "    def score(self, X,y):\n",
    "        return np.sum(self.predict(X)==y) / len(X)"
   ]
  },
  {
   "cell_type": "code",
   "execution_count": 6,
   "metadata": {},
   "outputs": [],
   "source": [
    "# Split the data and normalize\n",
    "xtrain,xtest,ytrain,ytest = train_test_split(X,y)\n",
    "xtest_not_normalized = deepcopy(xtest)\n",
    "ss = StandardScaler().fit(xtrain)\n",
    "xtrain = ss.transform(xtrain)\n",
    "xtest = ss.transform(xtest)\n"
   ]
  },
  {
   "cell_type": "code",
   "execution_count": 7,
   "metadata": {},
   "outputs": [],
   "source": [
    "\n",
    "import tensorflow as tf\n",
    "\n",
    "# Now you can use Keras modules directly from tensorflow.keras\n",
    "from tensorflow.keras.models import Sequential\n",
    "from tensorflow.keras.layers import Dense, Dropout, Activation, Flatten\n",
    "\n",
    "# import keras\n",
    "# from keras.models import Sequential\n",
    "# from keras.layers import Dense, Flatten\n",
    "import innvestigate\n",
    "tf.compat.v1.disable_eager_execution()\n",
    "from tensorflow.keras.callbacks import LearningRateScheduler"
   ]
  },
  {
   "cell_type": "code",
   "execution_count": null,
   "metadata": {},
   "outputs": [],
   "source": []
  },
  {
   "cell_type": "code",
   "execution_count": null,
   "metadata": {},
   "outputs": [],
   "source": []
  },
  {
   "cell_type": "code",
   "execution_count": null,
   "metadata": {},
   "outputs": [],
   "source": []
  },
  {
   "cell_type": "code",
   "execution_count": 8,
   "metadata": {},
   "outputs": [],
   "source": [
    "# ytrain"
   ]
  },
  {
   "cell_type": "code",
   "execution_count": 9,
   "metadata": {},
   "outputs": [
    {
     "name": "stdout",
     "output_type": "stream",
     "text": [
      "WARNING:tensorflow:Please add `keras.layers.InputLayer` instead of `keras.Input` to Sequential model. `keras.Input` is intended to be used by Functional model.\n",
      "Train on 2997992 samples\n"
     ]
    },
    {
     "name": "stderr",
     "output_type": "stream",
     "text": [
      "2024-06-04 22:21:22.261957: I tensorflow/stream_executor/platform/default/dso_loader.cc:53] Successfully opened dynamic library libcuda.so.1\n",
      "2024-06-04 22:21:22.272002: I tensorflow/core/common_runtime/gpu/gpu_device.cc:1733] Found device 0 with properties: \n",
      "pciBusID: 0000:67:00.0 name: NVIDIA RTX A6000 computeCapability: 8.6\n",
      "coreClock: 1.8GHz coreCount: 84 deviceMemorySize: 47.54GiB deviceMemoryBandwidth: 715.34GiB/s\n",
      "2024-06-04 22:21:22.280427: I tensorflow/core/common_runtime/gpu/gpu_device.cc:1733] Found device 1 with properties: \n",
      "pciBusID: 0000:68:00.0 name: NVIDIA RTX A6000 computeCapability: 8.6\n",
      "coreClock: 1.8GHz coreCount: 84 deviceMemorySize: 47.53GiB deviceMemoryBandwidth: 715.34GiB/s\n",
      "2024-06-04 22:21:22.280554: I tensorflow/stream_executor/platform/default/dso_loader.cc:53] Successfully opened dynamic library libcudart.so.11.0\n",
      "2024-06-04 22:21:22.311403: I tensorflow/stream_executor/platform/default/dso_loader.cc:53] Successfully opened dynamic library libcublas.so.11\n",
      "2024-06-04 22:21:22.311555: I tensorflow/stream_executor/platform/default/dso_loader.cc:53] Successfully opened dynamic library libcublasLt.so.11\n",
      "2024-06-04 22:21:22.327550: I tensorflow/stream_executor/platform/default/dso_loader.cc:53] Successfully opened dynamic library libcufft.so.10\n",
      "2024-06-04 22:21:22.327970: I tensorflow/stream_executor/platform/default/dso_loader.cc:53] Successfully opened dynamic library libcurand.so.10\n",
      "2024-06-04 22:21:22.328852: I tensorflow/stream_executor/platform/default/dso_loader.cc:53] Successfully opened dynamic library libcusolver.so.11\n",
      "2024-06-04 22:21:22.336883: I tensorflow/stream_executor/platform/default/dso_loader.cc:53] Successfully opened dynamic library libcusparse.so.11\n",
      "2024-06-04 22:21:22.337023: W tensorflow/stream_executor/platform/default/dso_loader.cc:64] Could not load dynamic library 'libcudnn.so.8'; dlerror: libcudnn.so.8: cannot open shared object file: No such file or directory\n",
      "2024-06-04 22:21:22.337035: W tensorflow/core/common_runtime/gpu/gpu_device.cc:1766] Cannot dlopen some GPU libraries. Please make sure the missing libraries mentioned above are installed properly if you would like to use GPU. Follow the guide at https://www.tensorflow.org/install/gpu for how to download and setup the required libraries for your platform.\n",
      "Skipping registering GPU devices...\n",
      "2024-06-04 22:21:22.378872: I tensorflow/core/platform/cpu_feature_guard.cc:142] This TensorFlow binary is optimized with oneAPI Deep Neural Network Library (oneDNN) to use the following CPU instructions in performance-critical operations:  AVX2 AVX512F FMA\n",
      "To enable them in other operations, rebuild TensorFlow with the appropriate compiler flags.\n",
      "2024-06-04 22:21:22.379630: I tensorflow/core/common_runtime/gpu/gpu_device.cc:1258] Device interconnect StreamExecutor with strength 1 edge matrix:\n",
      "2024-06-04 22:21:22.379774: I tensorflow/core/common_runtime/gpu/gpu_device.cc:1264]      \n",
      "2024-06-04 22:21:22.417574: I tensorflow/core/platform/profile_utils/cpu_utils.cc:114] CPU Frequency: 3699850000 Hz\n"
     ]
    },
    {
     "name": "stdout",
     "output_type": "stream",
     "text": [
      "Epoch 1/20\n",
      "2997992/2997992 [==============================] - 1s 0us/sample - loss: 0.3029 - accuracy: 0.8338\n",
      "Epoch 2/20\n",
      "2997992/2997992 [==============================] - 1s 0us/sample - loss: 0.0637 - accuracy: 0.9949\n",
      "Epoch 3/20\n",
      "2997992/2997992 [==============================] - 1s 0us/sample - loss: 0.0627 - accuracy: 0.9949\n",
      "Epoch 4/20\n",
      "2997992/2997992 [==============================] - 1s 0us/sample - loss: 0.2236 - accuracy: 0.9949\n",
      "Epoch 5/20\n",
      "2997992/2997992 [==============================] - 1s 0us/sample - loss: 0.2627 - accuracy: 0.9949\n",
      "Epoch 6/20\n",
      "2997992/2997992 [==============================] - 1s 0us/sample - loss: 0.5378 - accuracy: 0.9949\n",
      "Epoch 7/20\n",
      "2997992/2997992 [==============================] - 1s 0us/sample - loss: 0.5622 - accuracy: 0.9949\n",
      "Epoch 8/20\n",
      "2997992/2997992 [==============================] - 1s 0us/sample - loss: 0.5444 - accuracy: 0.9949\n",
      "Epoch 9/20\n",
      "2997992/2997992 [==============================] - 1s 0us/sample - loss: 0.5390 - accuracy: 0.9949\n",
      "Epoch 10/20\n",
      "2997992/2997992 [==============================] - 1s 0us/sample - loss: 0.5373 - accuracy: 0.9949\n",
      "Epoch 11/20\n",
      "2997992/2997992 [==============================] - 1s 0us/sample - loss: 0.5356 - accuracy: 0.9949\n",
      "Epoch 12/20\n",
      "2997992/2997992 [==============================] - 1s 0us/sample - loss: 0.5360 - accuracy: 0.9949\n",
      "Epoch 13/20\n",
      "2997992/2997992 [==============================] - 1s 0us/sample - loss: 0.6195 - accuracy: 0.9949\n",
      "Epoch 14/20\n",
      "2997992/2997992 [==============================] - 1s 0us/sample - loss: 0.6048 - accuracy: 0.9949\n",
      "Epoch 15/20\n",
      "2997992/2997992 [==============================] - 1s 0us/sample - loss: 0.5246 - accuracy: 0.9949\n",
      "Epoch 16/20\n",
      "2997992/2997992 [==============================] - 1s 0us/sample - loss: 0.4710 - accuracy: 0.9949\n",
      "Epoch 17/20\n",
      "2997992/2997992 [==============================] - 1s 0us/sample - loss: 0.2604 - accuracy: 0.9949\n",
      "Epoch 18/20\n",
      "2997992/2997992 [==============================] - 1s 0us/sample - loss: 0.2604 - accuracy: 0.9949\n",
      "Epoch 19/20\n",
      "2997992/2997992 [==============================] - 1s 0us/sample - loss: 0.2605 - accuracy: 0.9949\n",
      "Epoch 20/20\n",
      "2997992/2997992 [==============================] - 1s 0us/sample - loss: 0.2610 - accuracy: 0.9949\n",
      "True\n"
     ]
    }
   ],
   "source": [
    "# Train the adversarial model\n",
    "adv_shap = Adversarial_Kernel_SHAP_Model(racist_model_f(), innocuous_model_psi()).\\\n",
    "            train(xtrain, ytrain, feature_names=features,estimator = True)"
   ]
  },
  {
   "cell_type": "code",
   "execution_count": 10,
   "metadata": {},
   "outputs": [
    {
     "name": "stderr",
     "output_type": "stream",
     "text": [
      "100%|██████████| 1/1 [00:00<00:00, 99.62it/s]\n"
     ]
    },
    {
     "data": {
      "image/png": "[encoded data removed]",
      "text/plain": [
       "<Figure size 800x390 with 1 Axes>"
      ]
     },
     "metadata": {},
     "output_type": "display_data"
    },
    {
     "data": {
      "image/png": "[encoded data removed]",
      "text/plain": [
       "<Figure size 640x480 with 1 Axes>"
      ]
     },
     "metadata": {},
     "output_type": "display_data"
    },
    {
     "name": "stdout",
     "output_type": "stream",
     "text": [
      "WARNING:tensorflow:Network returning invalid probability values. The last layer might not normalize predictions into probabilities (like softmax or sigmoid would).\n",
      "Fidelity: 1.0\n"
     ]
    }
   ],
   "source": [
    "import innvestigate\n",
    "import matplotlib.pyplot as plt\n",
    "# Set the background distribution for the shap explainer using kmeans\n",
    "background_distribution = shap.kmeans(xtrain,10)\n",
    "\n",
    "# Let's use the shap kernel explainer and grab a point to explain\n",
    "to_examine = np.random.choice(xtest.shape[0])\n",
    "\n",
    "# # Explain the biased model\n",
    "biased_kernel_explainer = shap.KernelExplainer(racist_model_f().predict, background_distribution)\n",
    "biased_shap_values = biased_kernel_explainer.shap_values(xtest[to_examine:to_examine+1])\n",
    "\n",
    "\n",
    "tf.compat.v1.disable_eager_execution()\n",
    "\n",
    "sample = xtest[to_examine:to_examine+1]\n",
    "\n",
    "analyzer = innvestigate.create_analyzer(\"lrp.z\", adv_shap.perturbation_identifier)\n",
    "analysis = analyzer.analyze(sample)\n",
    "\n",
    "# names = xtrain.columns\n",
    "names = features\n",
    "\n",
    "scores = pd.DataFrame(analysis)\n",
    "scores_abs = scores.abs()\n",
    "sum_of_columns = scores_abs.sum(axis=0)\n",
    "\n",
    "names = list(names)\n",
    "\n",
    "sum_of_columns = list(sum_of_columns)\n",
    "\n",
    "sum_of_columns\n",
    "combined = list(zip(names, sum_of_columns))\n",
    "# Sort the combined list in descending order based on the values from sum_of_columns\n",
    "sorted_combined = sorted(combined, key=lambda x: x[1], reverse=True)\n",
    "\n",
    "# Unzip the sorted_combined list to separate names and sum_of_columns\n",
    "sorted_names, sorted_sum_of_columns = zip(*sorted_combined)\n",
    "shap_val = sorted_sum_of_columns\n",
    "feature_name = sorted_names\n",
    "# sorted_names\n",
    "\n",
    "ig_array = np.array(shap_val)\n",
    "feature_name = list(feature_name)\n",
    "\n",
    "# Plot it using SHAP's plotting features.\n",
    "shap.summary_plot(biased_shap_values, feature_names=features, plot_type=\"bar\")\n",
    "# shap.summary_plot(ig_array, feature_names=feature_name, plot_type=\"bar\")\n",
    "\n",
    "# Create a list of labels (optional)\n",
    "labels =  feature_name # Replace this with your actual labels\n",
    "\n",
    "labels = [x for _, x in sorted(zip(ig_array, labels), reverse=False)]\n",
    "ig_array = sorted(ig_array, reverse=False)\n",
    "\n",
    "# Create a horizontal bar plot\n",
    "plt.barh(labels, ig_array)\n",
    "\n",
    "\n",
    "# Display the plot\n",
    "plt.show()\n",
    "\n",
    "\n",
    "print (\"Fidelity: {0:3.2}\".format(adv_shap.fidelity(xtest[to_examine:to_examine+1])))\n"
   ]
  },
  {
   "cell_type": "code",
   "execution_count": 11,
   "metadata": {},
   "outputs": [],
   "source": [
    "# 4 buckets, 3 graphs\n",
    "dict_biased_1 = {\n",
    "    'Biased': 0,\n",
    "    'Unrelated_1':0,\n",
    "    'Unrelated_2':0,\n",
    "    'Others':0\n",
    "}\n",
    "dict_biased_2 = {\n",
    "    'Biased': 0,\n",
    "    'Unrelated_1':0,\n",
    "    'Unrelated_2':0,\n",
    "    'Others':0\n",
    "}\n",
    "dict_biased_3 = {\n",
    "    'Biased': 0,\n",
    "    'Unrelated_1':0,\n",
    "    'Unrelated_2':0,\n",
    "    'Others':0\n",
    "}\n",
    "attack_1 = {\n",
    "    'Biased': 0,\n",
    "    'Unrelated_1':0,\n",
    "    'Unrelated_2':0,\n",
    "    'Others':0\n",
    "}\n",
    "\n",
    "attack_2 = {\n",
    "    'Biased': 0,\n",
    "    'Unrelated_1':0,\n",
    "    'Unrelated_2':0,\n",
    "    'Others':0\n",
    "}\n",
    "\n",
    "attack_3 = {\n",
    "    'Biased': 0,\n",
    "    'Unrelated_1':0,\n",
    "    'Unrelated_2':0,\n",
    "    'Others':0\n",
    "}\n"
   ]
  },
  {
   "cell_type": "code",
   "execution_count": 12,
   "metadata": {},
   "outputs": [],
   "source": [
    "# features analyzed\n",
    "biased_feature = 'FLOW_DURATION_MILLISECONDS'\n",
    "Unrelated_1_feature = 'unrelated_column'\n",
    "# Unrelated_2_feature = 'unrelated_column'\n",
    "# samples = xtest.shape[0]"
   ]
  },
  {
   "cell_type": "code",
   "execution_count": 13,
   "metadata": {},
   "outputs": [],
   "source": [
    "samples = 100"
   ]
  },
  {
   "cell_type": "code",
   "execution_count": 14,
   "metadata": {},
   "outputs": [
    {
     "name": "stderr",
     "output_type": "stream",
     "text": [
      "100%|██████████| 1/1 [00:00<00:00, 42.08it/s]\n",
      "100%|██████████| 1/1 [00:00<00:00, 166.37it/s]\n",
      "100%|██████████| 1/1 [00:00<00:00, 148.91it/s]\n",
      "100%|██████████| 1/1 [00:00<00:00, 127.73it/s]\n",
      "100%|██████████| 1/1 [00:00<00:00, 198.27it/s]\n",
      "100%|██████████| 1/1 [00:00<00:00, 68.75it/s]\n",
      "100%|██████████| 1/1 [00:00<00:00, 106.49it/s]\n",
      "100%|██████████| 1/1 [00:00<00:00, 63.77it/s]\n"
     ]
    },
    {
     "name": "stderr",
     "output_type": "stream",
     "text": [
      "100%|██████████| 1/1 [00:00<00:00, 164.98it/s]\n",
      "100%|██████████| 1/1 [00:00<00:00, 103.12it/s]\n",
      "100%|██████████| 1/1 [00:00<00:00, 92.59it/s]\n",
      "100%|██████████| 1/1 [00:00<00:00, 191.45it/s]\n",
      "100%|██████████| 1/1 [00:00<00:00, 88.50it/s]\n",
      "100%|██████████| 1/1 [00:00<00:00, 148.48it/s]\n",
      "100%|██████████| 1/1 [00:00<00:00, 141.23it/s]\n",
      "100%|██████████| 1/1 [00:00<00:00, 144.01it/s]\n",
      "100%|██████████| 1/1 [00:00<00:00, 193.58it/s]\n",
      "100%|██████████| 1/1 [00:00<00:00, 112.79it/s]\n",
      "100%|██████████| 1/1 [00:00<00:00, 137.41it/s]\n",
      "100%|██████████| 1/1 [00:00<00:00, 186.90it/s]\n",
      "100%|██████████| 1/1 [00:00<00:00, 130.07it/s]\n",
      "100%|██████████| 1/1 [00:00<00:00, 106.41it/s]\n",
      "100%|██████████| 1/1 [00:00<00:00, 63.30it/s]\n",
      "100%|██████████| 1/1 [00:00<00:00, 189.61it/s]\n",
      "100%|██████████| 1/1 [00:00<00:00, 187.56it/s]\n",
      "100%|██████████| 1/1 [00:00<00:00, 142.74it/s]\n",
      "100%|██████████| 1/1 [00:00<00:00, 122.48it/s]\n",
      "100%|██████████| 1/1 [00:00<00:00, 193.52it/s]\n",
      "100%|██████████| 1/1 [00:00<00:00, 64.79it/s]\n",
      "100%|██████████| 1/1 [00:00<00:00, 191.44it/s]\n",
      "100%|██████████| 1/1 [00:00<00:00, 169.05it/s]\n",
      "100%|██████████| 1/1 [00:00<00:00, 155.18it/s]\n",
      "100%|██████████| 1/1 [00:00<00:00, 194.91it/s]\n",
      "100%|██████████| 1/1 [00:00<00:00, 171.92it/s]\n",
      "100%|██████████| 1/1 [00:00<00:00, 201.42it/s]\n",
      "100%|██████████| 1/1 [00:00<00:00, 99.04it/s]\n",
      "100%|██████████| 1/1 [00:00<00:00, 23.95it/s]\n",
      "100%|██████████| 1/1 [00:00<00:00, 186.81it/s]\n",
      "100%|██████████| 1/1 [00:00<00:00, 198.38it/s]\n",
      "100%|██████████| 1/1 [00:00<00:00, 197.80it/s]\n",
      "100%|██████████| 1/1 [00:00<00:00, 108.91it/s]\n",
      "100%|██████████| 1/1 [00:00<00:00, 145.71it/s]\n",
      "100%|██████████| 1/1 [00:00<00:00, 98.75it/s]\n",
      "100%|██████████| 1/1 [00:00<00:00, 129.74it/s]\n",
      "100%|██████████| 1/1 [00:00<00:00, 107.12it/s]\n",
      "100%|██████████| 1/1 [00:00<00:00, 198.12it/s]\n",
      "100%|██████████| 1/1 [00:00<00:00, 203.10it/s]\n",
      "100%|██████████| 1/1 [00:00<00:00, 152.73it/s]\n",
      "100%|██████████| 1/1 [00:00<00:00, 164.81it/s]\n",
      "100%|██████████| 1/1 [00:00<00:00, 200.14it/s]\n",
      "100%|██████████| 1/1 [00:00<00:00, 161.67it/s]\n",
      "100%|██████████| 1/1 [00:00<00:00, 191.05it/s]\n",
      "100%|██████████| 1/1 [00:00<00:00, 191.49it/s]\n",
      "100%|██████████| 1/1 [00:00<00:00, 194.35it/s]\n",
      "100%|██████████| 1/1 [00:00<00:00, 150.17it/s]\n",
      "100%|██████████| 1/1 [00:00<00:00, 118.29it/s]\n",
      "100%|██████████| 1/1 [00:00<00:00, 162.32it/s]\n",
      "100%|██████████| 1/1 [00:00<00:00, 195.53it/s]\n",
      "100%|██████████| 1/1 [00:00<00:00, 166.21it/s]\n",
      "100%|██████████| 1/1 [00:00<00:00, 188.28it/s]\n",
      "100%|██████████| 1/1 [00:00<00:00, 93.48it/s]\n",
      "100%|██████████| 1/1 [00:00<00:00, 203.43it/s]\n",
      "100%|██████████| 1/1 [00:00<00:00, 151.95it/s]\n",
      "100%|██████████| 1/1 [00:00<00:00, 119.11it/s]\n",
      "100%|██████████| 1/1 [00:00<00:00, 195.11it/s]\n",
      "100%|██████████| 1/1 [00:00<00:00, 195.80it/s]\n",
      "100%|██████████| 1/1 [00:00<00:00, 94.05it/s]\n",
      "100%|██████████| 1/1 [00:00<00:00, 190.63it/s]\n",
      "100%|██████████| 1/1 [00:00<00:00, 148.39it/s]\n",
      "100%|██████████| 1/1 [00:00<00:00, 79.60it/s]\n",
      "100%|██████████| 1/1 [00:00<00:00, 120.40it/s]\n",
      "100%|██████████| 1/1 [00:00<00:00, 154.58it/s]\n",
      "100%|██████████| 1/1 [00:00<00:00, 195.41it/s]\n",
      "100%|██████████| 1/1 [00:00<00:00, 196.57it/s]\n",
      "100%|██████████| 1/1 [00:00<00:00, 208.28it/s]\n",
      "100%|██████████| 1/1 [00:00<00:00, 196.01it/s]\n",
      "100%|██████████| 1/1 [00:00<00:00, 174.27it/s]\n",
      "100%|██████████| 1/1 [00:00<00:00, 203.07it/s]\n",
      "100%|██████████| 1/1 [00:00<00:00, 195.58it/s]\n",
      "100%|██████████| 1/1 [00:00<00:00, 96.82it/s]\n",
      "100%|██████████| 1/1 [00:00<00:00, 170.08it/s]\n",
      "100%|██████████| 1/1 [00:00<00:00, 159.07it/s]\n",
      "100%|██████████| 1/1 [00:00<00:00, 202.14it/s]\n",
      "100%|██████████| 1/1 [00:00<00:00, 159.29it/s]\n",
      "100%|██████████| 1/1 [00:00<00:00, 185.81it/s]\n",
      "100%|██████████| 1/1 [00:00<00:00, 72.29it/s]\n",
      "100%|██████████| 1/1 [00:00<00:00, 186.69it/s]\n",
      "100%|██████████| 1/1 [00:00<00:00, 199.87it/s]\n",
      "100%|██████████| 1/1 [00:00<00:00, 149.90it/s]\n",
      "100%|██████████| 1/1 [00:00<00:00, 167.25it/s]\n",
      "100%|██████████| 1/1 [00:00<00:00, 160.52it/s]\n",
      "100%|██████████| 1/1 [00:00<00:00, 204.23it/s]\n",
      "100%|██████████| 1/1 [00:00<00:00, 186.88it/s]\n",
      "100%|██████████| 1/1 [00:00<00:00, 192.54it/s]\n",
      "100%|██████████| 1/1 [00:00<00:00, 147.08it/s]\n",
      "100%|██████████| 1/1 [00:00<00:00, 185.56it/s]\n",
      "100%|██████████| 1/1 [00:00<00:00, 189.96it/s]\n",
      "100%|██████████| 1/1 [00:00<00:00, 199.34it/s]\n",
      "100%|██████████| 1/1 [00:00<00:00, 199.93it/s]\n",
      "100%|██████████| 1/1 [00:00<00:00, 195.82it/s]\n"
     ]
    }
   ],
   "source": [
    "for i in range(0,samples):   \n",
    " # Set the background distribution for the shap explainer using kmeans\n",
    "    background_distribution = shap.kmeans(xtrain,10)\n",
    "\n",
    "    # Let's use the shap kernel explainer and grab a point to explain\n",
    "    to_examine = i\n",
    "\n",
    "    # to_examine = np.random.choice(xtest.shape[0])\n",
    "\n",
    "    # Explain the biased model\n",
    "    biased_kernel_explainer = shap.KernelExplainer(racist_model_f().predict, background_distribution)\n",
    "    biased_shap_values = biased_kernel_explainer.shap_values(xtest[to_examine:to_examine+1])\n",
    "\n",
    "\n",
    "    # # Explain the adversarial model\n",
    "    # adv_kerenel_explainer = shap.KernelExplainer(adv_shap.predict, background_distribution)\n",
    "    # adv_shap_values = adv_kerenel_explainer.shap_values(xtest[to_examine:to_examine+1])\n",
    "\n",
    "\n",
    "    #--------------------\n",
    "\n",
    "        \n",
    "    import innvestigate\n",
    "    tf.compat.v1.disable_eager_execution()\n",
    "\n",
    "    sample = xtest[to_examine:to_examine+1]\n",
    "\n",
    "    analyzer = innvestigate.create_analyzer(\"lrp.z\", adv_shap.perturbation_identifier)\n",
    "    analysis = analyzer.analyze(sample)\n",
    "\n",
    "    # names = xtrain.columns\n",
    "    names = features\n",
    "\n",
    "    scores = pd.DataFrame(analysis)\n",
    "    scores_abs = scores.abs()\n",
    "    sum_of_columns = scores_abs.sum(axis=0)\n",
    "\n",
    "    names = list(names)\n",
    "\n",
    "    sum_of_columns = list(sum_of_columns)\n",
    "\n",
    "    sum_of_columns\n",
    "    combined = list(zip(names, sum_of_columns))\n",
    "    # Sort the combined list in descending order based on the values from sum_of_columns\n",
    "    sorted_combined = sorted(combined, key=lambda x: x[1], reverse=True)\n",
    "\n",
    "    # Unzip the sorted_combined list to separate names and sum_of_columns\n",
    "    sorted_names, sorted_sum_of_columns = zip(*sorted_combined)\n",
    "    shap_val = sorted_sum_of_columns\n",
    "    feature_name = sorted_names\n",
    "\n",
    "    ig_array = np.array(shap_val)\n",
    "    feature_name = list(feature_name)\n",
    "\n",
    "    # Create a list of labels (optional)\n",
    "    labels =  feature_name # Replace this with your actual labels\n",
    "\n",
    "    labels = [x for _, x in sorted(zip(ig_array, labels), reverse=False)]\n",
    "    ig_array = sorted(ig_array, reverse=False)\n",
    "    #--------------------\n",
    "\n",
    "    biased_df = pd.DataFrame({\n",
    "            'shap_values': biased_shap_values[0],\n",
    "            'shap_values_abs': abs(biased_shap_values[0]),\n",
    "            'features': features    \n",
    "        })\n",
    "    \n",
    "    # index_prediction = np.argmax(adv_shap.perturbation_identifier.predict(xtest[0:1]))\n",
    "\n",
    "    attack1_df = pd.DataFrame({\n",
    "            'shap_values': ig_array,\n",
    "            'shap_values_abs':abs(np.array(ig_array)),\n",
    "            'features': labels    \n",
    "        })\n",
    "    # info = [adv_shap_values,features]\n",
    "\n",
    "    attack1_df.sort_values(by=['shap_values_abs'], ascending=False,inplace=True)\n",
    "    biased_df.sort_values(by=['shap_values_abs'], ascending=False,inplace=True)\n",
    "\n",
    "    attack1_df = attack1_df.reset_index(drop=True)\n",
    "    biased_df = biased_df.reset_index(drop=True)\n",
    "\n",
    "    # print('Attack')\n",
    "    # print('------------------------------')\n",
    "    # print (attack1_df)\n",
    "    # print('Biased')\n",
    "    # print('------------------------------')\n",
    "    # print(biased_df)\n",
    "\n",
    "\n",
    "    #biased columns\n",
    "\n",
    "    #For 1st position\n",
    "    if biased_df['features'][0] == biased_feature: dict_biased_1['Biased'] = dict_biased_1['Biased'] + 1\n",
    "    elif biased_df['features'][0] == Unrelated_1_feature: dict_biased_1['Unrelated_1'] = dict_biased_1['Unrelated_1'] + 1\n",
    "    # elif biased_df['features'][0] == Unrelated_2_feature: dict_biased_1['Unrelated_2'] = dict_biased_1['Unrelated_2'] + 1\n",
    "    else: dict_biased_1['Others'] = dict_biased_1['Others'] + 1\n",
    "\n",
    "    #For 2st position\n",
    "    if biased_df['features'][1] == biased_feature: dict_biased_2['Biased'] = dict_biased_2['Biased'] + 1\n",
    "    elif biased_df['features'][1] == Unrelated_1_feature: dict_biased_2['Unrelated_1'] = dict_biased_2['Unrelated_1'] + 1\n",
    "    # elif biased_df['features'][1] == Unrelated_2_feature: dict_biased_2['Unrelated_2'] = dict_biased_2['Unrelated_2'] + 1\n",
    "    else: dict_biased_2['Others'] = dict_biased_2['Others'] + 1\n",
    "\n",
    "    #For 3st position\n",
    "    if biased_df['features'][2] == biased_feature: dict_biased_3['Biased'] = dict_biased_3['Biased'] + 1\n",
    "    elif biased_df['features'][2] == Unrelated_1_feature: dict_biased_3['Unrelated_1'] = dict_biased_3['Unrelated_1'] + 1\n",
    "    # elif biased_df['features'][2] == Unrelated_2_feature: dict_biased_3['Unrelated_2'] = dict_biased_3['Unrelated_2'] + 1\n",
    "    else: dict_biased_3['Others'] = dict_biased_3['Others'] + 1\n",
    "\n",
    "\n",
    "    #Attack 1 columns\n",
    "\n",
    "    #For 1st position\n",
    "    if attack1_df['features'][0] == biased_feature: attack_1['Biased'] = attack_1['Biased'] + 1\n",
    "    elif attack1_df['features'][0] == Unrelated_1_feature: attack_1['Unrelated_1'] = attack_1['Unrelated_1'] + 1\n",
    "    # elif attack1_df['features'][0] == Unrelated_2_feature: attack_1['Unrelated_2'] = attack_1['Unrelated_2'] + 1\n",
    "    else: attack_1['Others'] = attack_1['Others'] + 1\n",
    "\n",
    "    #For 2st position\n",
    "    if attack1_df['features'][1] == biased_feature: attack_2['Biased'] = attack_2['Biased'] + 1\n",
    "    elif attack1_df['features'][1] == Unrelated_1_feature: attack_2['Unrelated_1'] = attack_2['Unrelated_1'] + 1\n",
    "    # elif attack1_df['features'][1] == Unrelated_2_feature: attack_2['Unrelated_2'] = attack_2['Unrelated_2'] + 1\n",
    "    else: attack_2['Others'] = attack_2['Others'] + 1\n",
    "\n",
    "    #For 3st position\n",
    "    if attack1_df['features'][2] == biased_feature: attack_3['Biased'] = attack_3['Biased'] + 1\n",
    "    elif attack1_df['features'][2] == Unrelated_1_feature: attack_3['Unrelated_1'] = attack_3['Unrelated_1'] + 1\n",
    "    # elif attack1_df['features'][2] == Unrelated_2_feature: attack_3['Unrelated_2'] = attack_3['Unrelated_2'] + 1\n",
    "    else: attack_3['Others'] = attack_3['Others'] + 1\n",
    "\n",
    "\n",
    "# print (\"Fidelity: {0:3.2}\".format(adv_shap.fidelity(xtest[to_examine:to_examine+1])))"
   ]
  },
  {
   "cell_type": "code",
   "execution_count": 15,
   "metadata": {},
   "outputs": [],
   "source": [
    "#Normalized\n",
    "keys = ['Biased','Unrelated_1','Unrelated_2','Others' ]\n",
    "for x in keys:\n",
    "\n",
    "    dict_biased_1[x] = dict_biased_1[x]/samples\n",
    "    dict_biased_2[x] = dict_biased_2[x]/samples\n",
    "    dict_biased_3[x] = dict_biased_3[x]/samples\n",
    "\n",
    "    attack_1[x] = attack_1[x]/samples\n",
    "    attack_2[x] = attack_2[x]/samples\n",
    "    attack_3[x] = attack_3[x]/samples"
   ]
  },
  {
   "cell_type": "code",
   "execution_count": 16,
   "metadata": {},
   "outputs": [
    {
     "name": "stdout",
     "output_type": "stream",
     "text": [
      "{'Biased': 1.0, 'Unrelated_1': 0.0, 'Unrelated_2': 0.0, 'Others': 0.0}\n",
      "{'Biased': 0.0, 'Unrelated_1': 0.0, 'Unrelated_2': 0.0, 'Others': 1.0}\n",
      "{'Biased': 0.0, 'Unrelated_1': 0.0, 'Unrelated_2': 0.0, 'Others': 1.0}\n",
      "--------------\n",
      "{'Biased': 0.03, 'Unrelated_1': 0.64, 'Unrelated_2': 0.0, 'Others': 0.33}\n",
      "{'Biased': 0.01, 'Unrelated_1': 0.22, 'Unrelated_2': 0.0, 'Others': 0.77}\n",
      "{'Biased': 0.42, 'Unrelated_1': 0.06, 'Unrelated_2': 0.0, 'Others': 0.52}\n"
     ]
    }
   ],
   "source": [
    "print(dict_biased_1 )\n",
    "print(dict_biased_2 )\n",
    "print(dict_biased_3 )\n",
    "print('--------------')\n",
    "print(attack_1 )\n",
    "print(attack_2 )\n",
    "print(attack_3 )"
   ]
  },
  {
   "cell_type": "code",
   "execution_count": 17,
   "metadata": {},
   "outputs": [
    {
     "data": {
      "image/png": "[encoded data removed]",
      "text/plain": [
       "<Figure size 640x480 with 1 Axes>"
      ]
     },
     "metadata": {},
     "output_type": "display_data"
    }
   ],
   "source": [
    "# importing package\n",
    "import matplotlib.pyplot as plt\n",
    "import numpy as np\n",
    "total = samples \n",
    "# create data\n",
    "x = ['1st', '2nd', '3rd']\n",
    "y1 = np.array([dict_biased_1['Biased'], dict_biased_2['Biased'], dict_biased_3['Biased']])\n",
    "y2 = np.array([dict_biased_1['Unrelated_1'], dict_biased_2['Unrelated_1'], dict_biased_3['Unrelated_1']])\n",
    "y3 = np.array([dict_biased_1['Others'], dict_biased_2['Others'], dict_biased_3['Others']])\n",
    "y4 = np.array([dict_biased_1['Unrelated_2'], dict_biased_2['Unrelated_2'],dict_biased_3['Unrelated_2']])\n",
    "\n",
    "\n",
    "# plot bars in stack manner\n",
    "plt.bar(x, y1, color='r')\n",
    "plt.bar(x, y2, bottom=y1, color='b')\n",
    "plt.bar(x, y3, bottom=y1+y2, color='grey')\n",
    "# plt.bar(x, y4, bottom=y1+y2+y3, color='g')\n",
    "plt.xlabel(\"Features Importance Rank\", fontsize = 18)\n",
    "plt.ylabel(\"% Ocurrence\", fontsize = 18)\n",
    "# plt.legend([\"Biased\", \"Unrelated\", \"Unrelated_2\", \"Others\"])\n",
    "plt.legend([\"Biased\", \"Unrelated\", \"Others\"], fontsize = 14)\n",
    "\n",
    "plt.show()\n"
   ]
  },
  {
   "cell_type": "code",
   "execution_count": 18,
   "metadata": {},
   "outputs": [
    {
     "data": {
      "image/png": "[encoded data removed]",
      "text/plain": [
       "<Figure size 640x480 with 1 Axes>"
      ]
     },
     "metadata": {},
     "output_type": "display_data"
    }
   ],
   "source": [
    "# importing package\n",
    "import matplotlib.pyplot as plt\n",
    "import numpy as np\n",
    "total = samples \n",
    "# create data\n",
    "x = ['1st', '2nd', '3rd']\n",
    "y1 = np.array([attack_1['Biased'], attack_2['Biased'], attack_3['Biased']])\n",
    "y2 = np.array([attack_1['Unrelated_1'], attack_2['Unrelated_1'], attack_3['Unrelated_1']])\n",
    "y3 = np.array([attack_1['Others'], attack_2['Others'],attack_3['Others']])\n",
    "# y4 = np.array([attack_1['Unrelated_2'], attack_2['Unrelated_2'], attack_3['Unrelated_2']])\n",
    "\n",
    "# plot bars in stack manner\n",
    "plt.bar(x, y1, color='r')\n",
    "plt.bar(x, y2, bottom=y1, color='b')\n",
    "plt.bar(x, y3, bottom=y1+y2, color='grey')\n",
    "# plt.bar(x, y4, bottom=y1+y2+y3, color='g')\n",
    "plt.xlabel(\"Features Importance Rank\", fontsize = 18)\n",
    "plt.ylabel(\"% Ocurrence\", fontsize = 18)\n",
    "# plt.legend([\"Biased\", \"Unrelated_1\", \"Unrelated_2\", \"Others\"])\n",
    "plt.legend([\"Biased\", \"Unrelated_1\", \"Others\"], fontsize = 14)\n",
    "\n",
    "plt.show()\n"
   ]
  }
 ],
 "metadata": {
  "kernelspec": {
   "display_name": "HITL",
   "language": "python",
   "name": "python3"
  },
  "language_info": {
   "codemirror_mode": {
    "name": "ipython",
    "version": 3
   },
   "file_extension": ".py",
   "mimetype": "text/x-python",
   "name": "python",
   "nbconvert_exporter": "python",
   "pygments_lexer": "ipython3",
   "version": "3.8.16"
  },
  "orig_nbformat": 4
 },
 "nbformat": 4,
 "nbformat_minor": 2
}
